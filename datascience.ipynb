{
 "cells": [
  {
   "cell_type": "code",
   "execution_count": 2,
   "metadata": {},
   "outputs": [
    {
     "name": "stdout",
     "output_type": "stream",
     "text": [
      "       id                         title release_date  popularity  \\\n",
      "0  507086       Jurassic World Dominion   01/06/2022    2594.003   \n",
      "1  361743             Top Gun: Maverick   24/05/2022     973.262   \n",
      "2  420821  Chip 'n Dale: Rescue Rangers   18/05/2022    1029.579   \n",
      "3  532710                   Firestarter   12/05/2022      61.275   \n",
      "4  785985                  The Takedown   06/05/2022    1121.840   \n",
      "\n",
      "   vote_average  vote_count  \n",
      "0           6.8         303  \n",
      "1           8.3         905  \n",
      "2           7.1         490  \n",
      "3           6.2         229  \n",
      "4           5.9         217  \n"
     ]
    }
   ],
   "source": [
    "import pandas as pd\n",
    "import numpy as np\n",
    "import matplotlib.pyplot as plt\n",
    "\n",
    "movieData = pd.read_csv(\"archive(1)/TMDB_MovieDateset.csv\", header=0, sep=\",\")\n",
    "k = movieData.head()\n",
    "print(k)"
   ]
  },
  {
   "cell_type": "code",
   "execution_count": 3,
   "metadata": {},
   "outputs": [
    {
     "name": "stdout",
     "output_type": "stream",
     "text": [
      "<class 'pandas.core.frame.DataFrame'>\n",
      "RangeIndex: 6403 entries, 0 to 6402\n",
      "Data columns (total 6 columns):\n",
      " #   Column        Non-Null Count  Dtype  \n",
      "---  ------        --------------  -----  \n",
      " 0   id            6403 non-null   int64  \n",
      " 1   title         6403 non-null   object \n",
      " 2   release_date  6403 non-null   object \n",
      " 3   popularity    6403 non-null   float64\n",
      " 4   vote_average  6403 non-null   float64\n",
      " 5   vote_count    6403 non-null   int64  \n",
      "dtypes: float64(2), int64(2), object(2)\n",
      "memory usage: 300.3+ KB\n",
      "None\n",
      "                  id   popularity  vote_average    vote_count\n",
      "count    6403.000000  6403.000000   6403.000000   6403.000000\n",
      "mean   193172.706856    34.959190      6.814321   1889.663127\n",
      "std    222372.035943   138.367015      0.576754   3049.033383\n",
      "min         6.000000     0.600000      5.900000    195.000000\n",
      "25%     10622.500000     9.401000      6.300000    347.000000\n",
      "50%     62046.000000    13.795000      6.700000    725.000000\n",
      "75%    372288.500000    26.820500      7.200000   1918.500000\n",
      "max    928381.000000  4726.670000      8.700000  31671.000000\n"
     ]
    }
   ],
   "source": [
    "movieData.dropna()\n",
    "\n",
    "movieData.dropna(axis=0,inplace=True)\n",
    "\n",
    "print(movieData.info())\n",
    "\n",
    "print(movieData.describe())"
   ]
  },
  {
   "cell_type": "code",
   "execution_count": 4,
   "metadata": {},
   "outputs": [
    {
     "name": "stdout",
     "output_type": "stream",
     "text": [
      "401.3333333333331\n",
      "[ 1526.21533964 -8510.45874133]\n"
     ]
    }
   ],
   "source": [
    "def slope(x1, y1, x2, y2):\n",
    "    return (y2-y1)/(x2-x1)\n",
    "\n",
    "\n",
    "print(slope(6.8, 303, 8.3, 905))\n",
    "\n",
    "x= movieData[\"vote_average\"]\n",
    "y = movieData[\"vote_count\"]\n",
    "\n",
    "slope_int = np.polyfit(x, y, 1)\n",
    "print(slope_int)"
   ]
  },
  {
   "cell_type": "code",
   "execution_count": 5,
   "metadata": {},
   "outputs": [
    {
     "name": "stdout",
     "output_type": "stream",
     "text": [
      "6300\n",
      "4002\n",
      "6403\n"
     ]
    }
   ],
   "source": [
    "uniqueValue = movieData[\"title\"].nunique()\n",
    "print(uniqueValue)\n",
    "\n",
    "uniqueDates = movieData[\"release_date\"].nunique()\n",
    "print(uniqueDates)\n",
    "\n",
    "uniqueMovieId = movieData[\"id\"].nunique()\n",
    "print(uniqueMovieId)"
   ]
  },
  {
   "cell_type": "code",
   "execution_count": 8,
   "metadata": {},
   "outputs": [
    {
     "data": {
      "image/png": "[encoded data removed]",
      "text/plain": [
       "<Figure size 432x288 with 1 Axes>"
      ]
     },
     "metadata": {
      "needs_background": "light"
     },
     "output_type": "display_data"
    },
    {
     "data": {
      "image/png": "[encoded data removed]",
      "text/plain": [
       "<Figure size 432x288 with 1 Axes>"
      ]
     },
     "metadata": {
      "needs_background": "light"
     },
     "output_type": "display_data"
    },
    {
     "data": {
      "image/png": "[encoded data removed]",
      "text/plain": [
       "<Figure size 432x288 with 1 Axes>"
      ]
     },
     "metadata": {
      "needs_background": "light"
     },
     "output_type": "display_data"
    },
    {
     "data": {
      "image/png": "[encoded data removed]",
      "text/plain": [
       "<Figure size 432x288 with 1 Axes>"
      ]
     },
     "metadata": {
      "needs_background": "light"
     },
     "output_type": "display_data"
    }
   ],
   "source": [
    "plt.title(\"Unique movie Id\")\n",
    "plt.hist(movieData[\"id\"], bins=10)\n",
    "plt.show()\n",
    "\n",
    "plt.title(\"Movie Popularity\")\n",
    "plt.hist(movieData[\"popularity\"], bins=10)\n",
    "plt.show()\n",
    "\n",
    "plt.title(\"Total average vote\")\n",
    "plt.hist(movieData[\"vote_average\"], bins=10)\n",
    "plt.title(\"vote_average\")\n",
    "plt.show()\n",
    "\n",
    "plt.title(\"Total Vote Counts\")\n",
    "plt.hist(movieData[\"vote_count\"], bins=5)\n",
    "plt.show()\n",
    "\n"
   ]
  }
 ],
 "metadata": {
  "interpreter": {
   "hash": "c80d3ff20df0106aba0a5bbf436ae2bb6918ec94f11c405b1b77916f0db947c7"
  },
  "kernelspec": {
   "display_name": "Python 3.9.6 64-bit",
   "language": "python",
   "name": "python3"
  },
  "language_info": {
   "codemirror_mode": {
    "name": "ipython",
    "version": 3
   },
   "file_extension": ".py",
   "mimetype": "text/x-python",
   "name": "python",
   "nbconvert_exporter": "python",
   "pygments_lexer": "ipython3",
   "version": "3.9.6"
  },
  "orig_nbformat": 4
 },
 "nbformat": 4,
 "nbformat_minor": 2
}
